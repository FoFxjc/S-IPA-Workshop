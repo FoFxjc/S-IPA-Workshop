{
 "cells": [
  {
   "cell_type": "markdown",
   "metadata": {},
   "source": [
    "<div class=\"alert alert-block alert-info\" style=\"margin-top: 20px\">\n",
    "    <a href=\"https://github.com/isa-ipa\">\n",
    "        <img src=\"\" width=\"60\" align=\"right\">\n",
    "     </a>\n",
    "     <h1>\n",
    "         Intelligent Agent Workshop: Virtual Assistant: Job & Cover Letter\n",
    "     </h1>\n",
    "</div>"
   ]
  },
  {
   "cell_type": "markdown",
   "metadata": {},
   "source": [
    "## Agenda:\n",
    "\n",
    "\n",
    "In this workshop, we are to build a JobApplicationAssistant which will monitor \"Job Opportunities\" email from the provided email. Based on the user's \"Resume/CV\" and job desciption, the agent can generate tailored cover letters for job appication.\n",
    "    \n",
    "- Prepare Environment\n",
    "\n",
    "- Recap of web based image search\n",
    "\n",
    "- Virtual Assistant for Job Applicatio & Cover Letter\n",
    "\n",
    "    - Exercise 1: Get all the \"job opportunites\" related link from the email\n",
    "    - Using Local AI Components (NLP) to generate the coverletter\n",
    "    - Exercise 2: using python script sendback the application emails\n",
    "    - Exercise 3: Using TagUI-Python sendback the application emails\n"
   ]
  },
  {
   "cell_type": "markdown",
   "metadata": {},
   "source": [
    "<div class=\"alert alert-info alertdanger\" style=\"margin-top: 20px\">\n",
    "    <h1>\n",
    "         Prepare Environment\n",
    "    </h1>\n",
    "</div>"
   ]
  },
  {
   "cell_type": "markdown",
   "metadata": {},
   "source": [
    "## 1.  Prepare system level environment\n",
    "\n",
    "1. If you are using the ISS-VM and you also open this notebook with iss-env-py3\n",
    "    The environment is already prepared. Please go through the notebook to learn how to use tagui and do some demo application.\n",
    "2. To download ISS-VM from: https://github.com/telescopeuser/iss-vm\n",
    "3. Install the Chrome"
   ]
  },
  {
   "cell_type": "code",
   "execution_count": null,
   "metadata": {},
   "outputs": [],
   "source": [
    "# Please uncomment and copy the below line into the Terminal to install the requirements\n",
    "# Don't forget to change the conda environment where you use to open this notebook\n",
    "\n",
    "# For ISS-VM user, open terminal, key in: \n",
    "# source activate iss-env-py3\n",
    "# sudo bash ./prepare.sh"
   ]
  },
  {
   "cell_type": "markdown",
   "metadata": {},
   "source": [
    "## 2. Prepare notebook environment"
   ]
  },
  {
   "cell_type": "markdown",
   "metadata": {},
   "source": [
    "For this workshop, we will introduce the TagUI(https://github.com/kelaberetiv/TagUI) as the RPA tools(robotic process automation) and use TagUI-Python(https://github.com/tebelorg/RPA-Python) to do some application to help you understand the how the RPA work and how to use it in the real world task\n",
    "\n",
    "*tip: the TagUI-Python now also is called RPA-python the Rename Detail is here https://github.com/tebelorg/RPA-Python/issues/100"
   ]
  },
  {
   "cell_type": "markdown",
   "metadata": {},
   "source": [
    "TagUI:\n",
    "    - TagUI is a command-line tool for digital process automation (RPA)\n",
    "    - automate Chrome in visible / invisible mode\n",
    "    - visual automation of websites and desktop\n",
    "    - write in 20+ human languages & JavaScript\n",
    "    - Chrome extension for recording web actions\n",
    "    - Python & R integrations for machine learning"
   ]
  },
  {
   "cell_type": "code",
   "execution_count": null,
   "metadata": {},
   "outputs": [],
   "source": [
    "# Please uncomment and press shift+enter to install some requirements\n",
    "# !pip install rpa sklearn nltk lxml"
   ]
  },
  {
   "cell_type": "code",
   "execution_count": null,
   "metadata": {},
   "outputs": [],
   "source": [
    "from IPython.display import display, Markdown, Latex\n",
    "import codehelper"
   ]
  },
  {
   "cell_type": "markdown",
   "metadata": {},
   "source": [
    "### Optionally, change the sourcecode of tagui command-line to launch the chrome in the incognito model to prevent some login issue"
   ]
  },
  {
   "cell_type": "code",
   "execution_count": null,
   "metadata": {},
   "outputs": [],
   "source": [
    "# set \"incognito mode\"\n",
    "!sed -i 's/chrome_started=\"$(uname -s)\"; chrome_switches=\"--user-data-dir=chrome\\/tagui_user_profile --remote-debugging-port=9222 about:blank\"/chrome_started=\"$(uname -s)\"; chrome_switches=\"--user-data-dir=chrome\\/tagui_user_profile --remote-debugging-port=9222 -incognito about:blank\"/g' ~/.tagui/src/tagui\n",
    "\n",
    "# set \"normal mode\"\n",
    "# !sed -i 's/chrome_started=\"$(uname -s)\"; chrome_switches=\"--user-data-dir=chrome\\/tagui_user_profile --remote-debugging-port=9222 -incognito about:blank\"/chrome_started=\"$(uname -s)\"; chrome_switches=\"--user-data-dir=chrome\\/tagui_user_profile --remote-debugging-port=9222 about:blank\"/g' ~/.tagui/src/tagui\n"
   ]
  },
  {
   "cell_type": "markdown",
   "metadata": {},
   "source": [
    "<div class=\"alert alert-info alertdanger\" style=\"margin-top: 20px\">\n",
    "    <h1>\n",
    "         Recap of web based image search\n",
    "    </h1>\n",
    "    <p>\n",
    "        Recall the \"use the Bing Image Search to search the related image\" task in previous workshop\n",
    "    </p>\n",
    "</div>"
   ]
  },
  {
   "cell_type": "code",
   "execution_count": null,
   "metadata": {},
   "outputs": [],
   "source": [
    "# Write your code from here:\n"
   ]
  },
  {
   "cell_type": "markdown",
   "metadata": {},
   "source": [
    "---"
   ]
  },
  {
   "cell_type": "code",
   "execution_count": null,
   "metadata": {},
   "outputs": [],
   "source": [
    "# import rpa as t for the new vision of TagUI same function just different name\n",
    "import tagui as t"
   ]
  },
  {
   "cell_type": "code",
   "execution_count": null,
   "metadata": {},
   "outputs": [],
   "source": [
    "t.close()"
   ]
  },
  {
   "cell_type": "code",
   "execution_count": null,
   "metadata": {},
   "outputs": [],
   "source": [
    "target_image = 'exercise_3/sample.jpg'"
   ]
  },
  {
   "cell_type": "code",
   "execution_count": null,
   "metadata": {},
   "outputs": [],
   "source": [
    "t.init()\n",
    "t.url('https://www.bing.com/?scope=images&nr=1&FORM=NOFORM')\n",
    "t.???('//div[@id=\"???\"]')\n",
    "t.???(\"input.fileinput\",target_image)\n",
    "t.wait(3)\n",
    "t.click('//???[contains(string(),\"Similar\")]')\n",
    "image_nums = t.???('//a[@class=\"???\"]')\n",
    "limitation = 3\n",
    "for i in range(1,image_nums):\n",
    "    if i <= 3:\n",
    "        url = 'https://www.bing.com'+ t.read(f'(//a[@class=\"richImgLnk\"])[{i}]/img/@src')\n",
    "        t.download(url,'exercise_3/' + 'similar_'+str(i)+'.png')\n",
    "t.close()"
   ]
  },
  {
   "cell_type": "code",
   "execution_count": null,
   "metadata": {},
   "outputs": [],
   "source": [
    "display(Markdown('![Similar](exercise_3/similar_1.png)'))"
   ]
  },
  {
   "cell_type": "code",
   "execution_count": null,
   "metadata": {},
   "outputs": [],
   "source": [
    "# Uncommnet below, then press Shift+Enter for solution\n",
    "# codehelper.hint_for_ipa_recap_one()"
   ]
  },
  {
   "cell_type": "markdown",
   "metadata": {},
   "source": [
    "## Summary\n",
    "Great recap! Let's now deep drive in the this process\n",
    "- 1. we upload a image\n",
    "- 2. Bing get the image file and do some magic process, then back the result\n",
    "- 3. we download top threes similar images\n",
    "\n",
    "Intelligent process automation process\n",
    "- We use tagui-bot to upload and download the image;\n",
    "- We use tagui-bot to retrieve similar image from Bing Image Search;\n"
   ]
  },
  {
   "cell_type": "markdown",
   "metadata": {},
   "source": [
    "<div class=\"alert alert-info alertdanger\" style=\"margin-top: 20px\">\n",
    "    <h1>\n",
    "       Virtual Assistant\n",
    "    </h1>\n",
    "    <p>\n",
    "       for Job Applicatio & Cover Letter\n",
    "    </p>\n",
    "</div>"
   ]
  },
  {
   "cell_type": "markdown",
   "metadata": {},
   "source": [
    "## IPA Task"
   ]
  },
  {
   "cell_type": "markdown",
   "metadata": {},
   "source": [
    "We are to build a JobApplicationAssistant which will monitor \"Job Opportunities\" email from the provided email. Based on the user's \"Resume/CV\" and job desciption, the agent can generate tailored cover letters for job appication via eamil."
   ]
  },
  {
   "cell_type": "markdown",
   "metadata": {},
   "source": [
    "## IPA Solution"
   ]
  },
  {
   "cell_type": "markdown",
   "metadata": {},
   "source": [
    "### 1. First: Monitor and retieve job opportunities \n",
    "\n",
    "    Get the job description from the target email account\n",
    "        - Login the mail\n",
    "        - Search the job description emails\n",
    "        - Download the job description files\n",
    "        \n",
    "### 2. Second: Write cover letter \n",
    "\n",
    "    Use local AI module to conduct text/language processing and generate the coverletters based on the Job Description and the Resume\n",
    "\n",
    "### 3. Third: Send job application via email \n",
    "\n",
    "    In this part, we use both pure python method and tagui to send the email to the hiring company\n"
   ]
  },
  {
   "cell_type": "markdown",
   "metadata": {},
   "source": [
    "<div class=\"alert alert-success alertdanger\" style=\"margin-top: 20px\">\n",
    "    <h1>\n",
    "        First: Monitor and retieve job opportunities\n",
    "    </h1>\n",
    "    <p>\n",
    "        Get the job description from the target email account\n",
    "    </p>\n",
    "</div>"
   ]
  },
  {
   "cell_type": "markdown",
   "metadata": {},
   "source": [
    "<div class=\"alert alert-danger alertdanger\" style=\"margin-top: 20px\">\n",
    "    <h1>\n",
    "         Workshop Quiz:\n",
    "    </h1>\n",
    "    <p>\n",
    "         Login the target Email Account\n",
    "    </p>\n",
    "    <p>\n",
    "         <b>(Recap earlier IPA workshop Tutorial)</b>\n",
    "    </p>\n",
    "        <p>\n",
    "        <b>Check TagUI-Python functions on TagUI-Python(<a href=\"https://github.com/tebelorg/RPA-Python\">https://github.com/tebelorg/RPA-Python</a>) </b>\n",
    "    </p>\n",
    "</div>"
   ]
  },
  {
   "cell_type": "code",
   "execution_count": null,
   "metadata": {},
   "outputs": [],
   "source": [
    "import tagui as t\n",
    "import os\n",
    "\n",
    "CURRENT_PATH = os.getcwd()\n",
    "\n",
    "print(CURRENT_PATH)"
   ]
  },
  {
   "cell_type": "code",
   "execution_count": null,
   "metadata": {},
   "outputs": [],
   "source": [
    "def hover_and_read(selector):\n",
    "    t.hover(selector)\n",
    "    str = t.read(selector)\n",
    "    return str"
   ]
  },
  {
   "cell_type": "code",
   "execution_count": null,
   "metadata": {},
   "outputs": [],
   "source": [
    "t.close()"
   ]
  },
  {
   "cell_type": "code",
   "execution_count": null,
   "metadata": {},
   "outputs": [],
   "source": [
    "import json\n",
    "\n",
    "email_info = None\n",
    "with open(\"./email_info.json\",'r') as load_f: # Ask lecturer for this ./email_info.json file\n",
    "    email_info = json.load(load_f)\n",
    "    \n",
    "email_info = email_info['1']\n",
    "email_info"
   ]
  },
  {
   "cell_type": "code",
   "execution_count": null,
   "metadata": {},
   "outputs": [],
   "source": [
    "# name = \"XU JIACHEN\"\n",
    "# phone = \"+65 93752168\"\n",
    "name = \"Virtual Assistant on behalf of Mr. ISS NUS\"\n",
    "phone = \"+65 6601 3161\"\n",
    "\n",
    "# Please uncomment next line please change to your own email address\n",
    "company_emails = ['liyingxujiachen@gmail.com']\n",
    "# company_emails = ['bwbw75@gmail.com']\n",
    "resume_file_path = os.path.join(CURRENT_PATH,\"resume/resume.pdf\")\n",
    "# maybe you chang to your own resume"
   ]
  },
  {
   "cell_type": "code",
   "execution_count": null,
   "metadata": {},
   "outputs": [],
   "source": [
    "# Write your code from here:\n"
   ]
  },
  {
   "cell_type": "markdown",
   "metadata": {},
   "source": [
    "---"
   ]
  },
  {
   "cell_type": "code",
   "execution_count": null,
   "metadata": {},
   "outputs": [],
   "source": [
    "# Or use below 'filling the blank' coding template:"
   ]
  },
  {
   "cell_type": "code",
   "execution_count": null,
   "metadata": {},
   "outputs": [],
   "source": [
    "# Write your code below\n",
    "def loginEmail_outlook(email_account,email_pwd):\n",
    "    try:\n",
    "        t.init(visual_automation = True)\n",
    "        t.url('https://login.live.com/login.srf?wa=wsignin1.0&rpsnv=13&ct=1580788659&rver=7.0.6737.0&wp=MBI_SSL&wreply=https%3a%2f%2foutlook.live.com%2fowa%2f%3fnlp%3d1%26RpsCsrfState%3dd234420e-f55a-d62c-a8e6-c1c9a31e4e54&id=292841&aadredir=1&CBCXT=out&lw=1&fl=dob%2cflname%2cwld&cobrandid=90015')\n",
    "        t.type('//???[@name=\"???\"]', email_account + '[enter]')\n",
    "        t.wait(0.5)\n",
    "        t.type('//input[@???=\"???\"]', email_pwd + '[enter]')\n",
    "        t.wait(1)\n",
    "    except:\n",
    "        t.close()"
   ]
  },
  {
   "cell_type": "code",
   "execution_count": null,
   "metadata": {},
   "outputs": [],
   "source": [
    "try:\n",
    "    loginEmail_outlook(email_info['email'],email_info['password'])\n",
    "finally:\n",
    "    t.close()"
   ]
  },
  {
   "cell_type": "code",
   "execution_count": null,
   "metadata": {},
   "outputs": [],
   "source": [
    "# Uncommnet below, then press Shift+Enter for solution\n",
    "# codehelper.hint_for_ipa_recap_two()"
   ]
  },
  {
   "cell_type": "markdown",
   "metadata": {},
   "source": [
    "<div class=\"alert alert-danger alertdanger\" style=\"margin-top: 20px\">\n",
    "    <h1>\n",
    "         Workshop Quiz:\n",
    "    </h1>\n",
    "    <p>\n",
    "         Download the Job Description files from email being monitored(After login)\n",
    "    </p>\n",
    "            <p>\n",
    "        <b>Check TagUI-Python functions on TagUI-Python(<a href=\"https://github.com/tebelorg/RPA-Python\">https://github.com/tebelorg/RPA-Python</a>) </b>\n",
    "    </p>\n",
    "</div>"
   ]
  },
  {
   "cell_type": "code",
   "execution_count": null,
   "metadata": {},
   "outputs": [],
   "source": [
    "# Write your code from here:\n"
   ]
  },
  {
   "cell_type": "markdown",
   "metadata": {},
   "source": [
    "---"
   ]
  },
  {
   "cell_type": "code",
   "execution_count": null,
   "metadata": {},
   "outputs": [],
   "source": [
    "# Or use below 'filling the blank' coding template:"
   ]
  },
  {
   "cell_type": "code",
   "execution_count": null,
   "metadata": {},
   "outputs": [],
   "source": [
    "# maybe you will surprise about some xpath using unstable class name or other attributes\n",
    "def getJobDescription():\n",
    "    try:\n",
    "        t.???('//input[@???=\"Search\"]')\n",
    "        t.click('//???[@id=\"filtersButtonId\"]')\n",
    "        t.click('//???[contains(@class,\"ms-Dropdown-caretDownWrapper\")]')\n",
    "        t.click('//button[@title=\"Inbox\"]')\n",
    "        t.???('(//input[@id=\"From-PICKER-ID\"])','liyingxujiachen' + '[enter]')\n",
    "        # t.???('(//input[@id=\"From-PICKER-ID\"])','nustalentconnect@csm.symplicity.com' + '[enter]')\n",
    "        t.wait(1)\n",
    "        t.type('//input[@id=\"Keywords-ID\"]','job opportunity')\n",
    "        t.wait(1)\n",
    "        t.???('//button[@aria-label=\"???\"]')\n",
    "        t.wait(3)\n",
    "        num_email=t.count('//div[@class=\"_1hHMVrN7VV4d6Ylz-FsMuP _18LAllQi61d4a4XNAr9prg\"]')\n",
    "        print('The number of job opportunity emails is: ',num_email)\n",
    "        jd_files=[]\n",
    "        for n in range(1,num_email+1):\n",
    "            t.click(f'(//div[@class=\"_1hHMVrN7VV4d6Ylz-FsMuP _18LAllQi61d4a4XNAr9prg\"])[{n}]')\n",
    "            jd_files.append(os.path.join(CURRENT_PATH,hover_and_read('//a[@target=\"_blank\"]/@href').split(\"location=./\")[-1]))\n",
    "            print(\"Thoes job opportunities files \",jd_files)\n",
    "        return jd_files\n",
    "    finally:\n",
    "        t.close()"
   ]
  },
  {
   "cell_type": "code",
   "execution_count": null,
   "metadata": {},
   "outputs": [],
   "source": [
    "try:\n",
    "    loginEmail_outlook(email_info['email'],email_info['password'])\n",
    "    t.wait(10)\n",
    "    jd_files = getJobDescription()\n",
    "finally:\n",
    "    t.close()"
   ]
  },
  {
   "cell_type": "code",
   "execution_count": null,
   "metadata": {},
   "outputs": [],
   "source": [
    "print(jd_files)"
   ]
  },
  {
   "cell_type": "code",
   "execution_count": null,
   "metadata": {},
   "outputs": [],
   "source": [
    "# jd_files2 = ['/media/sf_vm_shared_folder/S-IPA-WS-UAT/part2/JobApplicationAssistant/jd/5.pdf',\n",
    "#              '/media/sf_vm_shared_folder/S-IPA-WS-UAT/part2/JobApplicationAssistant/jd/4.pdf',\n",
    "#              '/media/sf_vm_shared_folder/S-IPA-WS-UAT/part2/JobApplicationAssistant/jd/3.pdf',\n",
    "#              '/media/sf_vm_shared_folder/S-IPA-WS-UAT/part2/JobApplicationAssistant/jd/2.pdf',\n",
    "#              '/media/sf_vm_shared_folder/S-IPA-WS-UAT/part2/JobApplicationAssistant/jd/1.pdf', \n",
    "#              '/media/sf_vm_shared_folder/S-IPA-WS-UAT/part2/JobApplicationAssistant/jd/0.pdf']\n",
    "\n",
    "# jd_files = jd_files2"
   ]
  },
  {
   "cell_type": "code",
   "execution_count": null,
   "metadata": {},
   "outputs": [],
   "source": [
    "# Uncommnet below, then press Shift+Enter for solution\n",
    "# codehelper.hint_for_ipa_exercise_one()"
   ]
  },
  {
   "cell_type": "code",
   "execution_count": null,
   "metadata": {},
   "outputs": [],
   "source": [
    "t.close()"
   ]
  },
  {
   "cell_type": "markdown",
   "metadata": {},
   "source": [
    "<div class=\"alert alert-success alertdanger\" style=\"margin-top: 20px\">\n",
    "    <h1>\n",
    "        Second: Write cover letter\n",
    "    </h1>\n",
    "    <p>\n",
    "        Use local AI module to conduct text/language processing and generate the coverletters based on the Job Description and the Resume\n",
    "    </p>\n",
    "</div>"
   ]
  },
  {
   "cell_type": "code",
   "execution_count": null,
   "metadata": {},
   "outputs": [],
   "source": [
    "resume_file_path"
   ]
  },
  {
   "cell_type": "code",
   "execution_count": null,
   "metadata": {},
   "outputs": [],
   "source": [
    "jd_files"
   ]
  },
  {
   "cell_type": "code",
   "execution_count": null,
   "metadata": {
    "scrolled": true
   },
   "outputs": [],
   "source": [
    "from ipa import CoverLetterGenerator\n",
    "\n",
    "os.chdir(CURRENT_PATH)\n",
    "\n",
    "# jd_files = ['/home/jiachenx/Desktop/S-IPA-Workshop/workshop2/Virtual-Assistant-Job/jd/0.pdf',\n",
    "#             '/home/jiachenx/Desktop/S-IPA-Workshop/workshop2/Virtual-Assistant-Job/jd/1.pdf',\n",
    "#            '/home/jiachenx/Desktop/S-IPA-Workshop/workshop2/Virtual-Assistant-Job/jd/2.pdf',\n",
    "#            '/home/jiachenx/Desktop/S-IPA-Workshop/workshop2/Virtual-Assistant-Job/jd/3.pdf',\n",
    "#            '/home/jiachenx/Desktop/S-IPA-Workshop/workshop2/Virtual-Assistant-Job/jd/4.pdf',\n",
    "#            '/home/jiachenx/Desktop/S-IPA-Workshop/workshop2/Virtual-Assistant-Job/jd/5.pdf',\n",
    "#            '/home/jiachenx/Desktop/S-IPA-Workshop/workshop2/Virtual-Assistant-Job/jd/6.pdf']\n",
    "\n",
    "gen = CoverLetterGenerator(resume_file_path,jd_files,name,phone,email_info['email'])\n",
    "\n",
    "import time\n",
    "starttime = time.clock()\n",
    "cover_letters = gen.generate()\n",
    "endtime = time.clock()\n",
    "print('Running time: %s Mins'%((endtime-starttime)/60))"
   ]
  },
  {
   "cell_type": "code",
   "execution_count": null,
   "metadata": {},
   "outputs": [],
   "source": [
    "# if the result is empty, that means your resume doesn't match those job postions, don't worry.\n",
    "# You can use your own resume\n",
    "print(cover_letters)"
   ]
  },
  {
   "cell_type": "code",
   "execution_count": null,
   "metadata": {},
   "outputs": [],
   "source": [
    "import shutil\n",
    "\n",
    "for index,cletter in enumerate(cover_letters):\n",
    "    shutil.copy(cletter,\n",
    "            './coverletter/coverleter_'+str(index)+\".pdf\")"
   ]
  },
  {
   "cell_type": "markdown",
   "metadata": {},
   "source": [
    "<div class=\"alert alert-success alertdanger\" style=\"margin-top: 20px\">\n",
    "    <h1>\n",
    "        Third: Send back application Email\n",
    "    </h1>\n",
    "    <p>\n",
    "        In this part, we use both pure python method and tagui to send the email to the hiring company\n",
    "    </p>\n",
    "</div>"
   ]
  },
  {
   "cell_type": "markdown",
   "metadata": {},
   "source": [
    "**Send email by Python:**"
   ]
  },
  {
   "cell_type": "code",
   "execution_count": null,
   "metadata": {},
   "outputs": [],
   "source": [
    "import smtplib\n",
    "import imghdr\n",
    "from email.mime.text import MIMEText\n",
    "from email.mime.image import MIMEImage\n",
    "from email.mime.multipart import MIMEMultipart\n",
    "from email.mime.application import MIMEApplication\n",
    "import random\n",
    "\n",
    "imgType_list = {'jpg','bmp','png','jpeg','rgb','tif'}\n",
    "\n",
    "# def send(sender_account,sender_password,toaddrs,email_text):\n",
    "#     try:\n",
    "#         server = smtplib.SMTP_SSL('smtp.gmail.com', 465)\n",
    "#         server.ehlo()\n",
    "#         server.login(sender_account, sender_password)\n",
    "#         server.sendmail(sender_account, toaddrs, email_text)\n",
    "#         server.close()\n",
    "#         print('Email sent!')\n",
    "#     except:\n",
    "#         print('Something went wrong...') \n",
    "\n",
    "def send(sender_account,sender_password,toaddrs,email_text):\n",
    "    try:\n",
    "        server = smtplib.SMTP('smtp.office365.com', 587)\n",
    "        server.starttls()\n",
    "        server.login(sender_account, sender_password)\n",
    "        print ('server working fine')\n",
    "        server.sendmail(sender_account, toaddrs, email_text)\n",
    "        server.close()\n",
    "        print('Email sent!')\n",
    "    except Exception as e:\n",
    "        print(e)\n",
    "        print('Something went wrong...') \n",
    "\n",
    "def sendmail(sender_account,sender_password,toaddrs,subject,content,attachments):\n",
    "\n",
    "    m = MIMEMultipart()\n",
    "    \n",
    "    textApart = MIMEText(content)\n",
    "    \n",
    "    m.attach(textApart)\n",
    "    \n",
    "    \n",
    "    for attach in attachments:\n",
    "        if imghdr.what(attach) in imgType_list:\n",
    "            imageApart = MIMEImage(open(attach, 'rb').read(), attach.split('.')[-1])\n",
    "            imageApart.add_header('Content-Disposition', 'attachment', filename=attach)\n",
    "            m.attach(imageApart)\n",
    "        else:\n",
    "            docApart = MIMEApplication(open(attach, 'rb').read())\n",
    "            docApart.add_header('Content-Disposition', 'attachment', filename=attach)\n",
    "            m.attach(docApart)\n",
    "            \n",
    "    m['Subject'] = subject\n",
    "    \n",
    "    send(sender_account,sender_password,toaddrs,m.as_string()) "
   ]
  },
  {
   "cell_type": "code",
   "execution_count": null,
   "metadata": {},
   "outputs": [],
   "source": [
    "company_emails"
   ]
  },
  {
   "cell_type": "code",
   "execution_count": null,
   "metadata": {},
   "outputs": [],
   "source": [
    "for index,_ in enumerate(cover_letters):\n",
    "    sent_from = email_info['email']\n",
    "    to = [random.choices(company_emails)]\n",
    "    subject = 'Job application - cover letter & resume (Python)'\n",
    "    body = \"Dear Sir/Madam, I write to you to apply for this position! \\n\\n- Regards,\\n\" + name\n",
    "    attachments = ['./coverletter/coverleter_'+str(index)+\".pdf\",'./resume/resume.pdf']\n",
    "    sendmail(email_info['email'],email_info['password'],to,subject,body,attachments)"
   ]
  },
  {
   "cell_type": "markdown",
   "metadata": {},
   "source": [
    "<div class=\"alert alert-danger alertdanger\" style=\"margin-top: 20px\">\n",
    "    <h1>\n",
    "         Workshop Quiz:\n",
    "    </h1>\n",
    "    <p>\n",
    "         Send email by TagUI\n",
    "    </p>    \n",
    "    <p>\n",
    "         Recall \"CSS Selector Exericse in earlier workshop --- use the Bing Image Search to search the related image\" about How to use TagUI upload file\n",
    "    </p>\n",
    "                <p>\n",
    "        <b>Check TagUI-Python functions on TagUI-Python(<a href=\"https://github.com/tebelorg/RPA-Python\">https://github.com/tebelorg/RPA-Python</a>) </b>\n",
    "    </p>\n",
    "</div>"
   ]
  },
  {
   "cell_type": "code",
   "execution_count": null,
   "metadata": {},
   "outputs": [],
   "source": [
    "# Write your code from here:\n"
   ]
  },
  {
   "cell_type": "markdown",
   "metadata": {},
   "source": [
    "---"
   ]
  },
  {
   "cell_type": "code",
   "execution_count": null,
   "metadata": {},
   "outputs": [],
   "source": [
    "# Or use below 'filling the blank' coding template:"
   ]
  },
  {
   "cell_type": "code",
   "execution_count": null,
   "metadata": {},
   "outputs": [],
   "source": [
    "def sendemail_tagui_outlook(email_account,email_pwd,to,subject,body,attachments):\n",
    "    try:\n",
    "        loginEmail_outlook(email_account,email_pwd)\n",
    "        t.???(\"//button[contains(@class,'???') and contains(string(), '???')]\") # the xpath for the new email button\n",
    "        t.wait(2)\n",
    "        t.type(\"//???[contains(@class, 'ms-BasePicker-input')]\",\" \".join(to))\n",
    "        t.wait(2)\n",
    "        t.click(\"//input[@id='???']\")\n",
    "        t.???(\"//input[@id='???']\",subject)\n",
    "        t.wait(2)\n",
    "        t.click(\"//div[@role='textbox']\")\n",
    "        t.type(\"//div[@role='textbox']\",body)\n",
    "        for file in attachments:\n",
    "            t.???(\"???\",file)# the css selector of upload files\n",
    "\n",
    "        t.click(\"//button[contains(@class,'ms-Button') and contains(string(), 'Send')]\")\n",
    "        t.wait(10)\n",
    "    finally:\n",
    "        t.close()"
   ]
  },
  {
   "cell_type": "code",
   "execution_count": null,
   "metadata": {},
   "outputs": [],
   "source": [
    "for index,_ in enumerate(cover_letters):\n",
    "    sent_from = email_info['email']\n",
    "    to = random.choices(company_emails)\n",
    "    subject = 'Job application - cover letter & resume (TagUI)'\n",
    "    body = \"Dear Sir/Madam, I write to you to apply for this position! \\n\\n- Regards,\\n\" + name\n",
    "    attachments = ['./coverletter/coverleter_'+str(index)+\".pdf\",'./resume/resume.pdf']\n",
    "#    sendmail(email_info['email'],email_info['password'],to,subject,body,attachments)\n",
    "    sendemail_tagui_outlook(email_info['email'],email_info['password'],to,subject,body,attachments) "
   ]
  },
  {
   "cell_type": "code",
   "execution_count": null,
   "metadata": {},
   "outputs": [],
   "source": [
    "# Uncommnet below, then press Shift+Enter for solution\n",
    "# codehelper.hint_for_ipa_exercise_two()"
   ]
  },
  {
   "cell_type": "markdown",
   "metadata": {},
   "source": [
    "<div class=\"alert alert-block alert-info\" style=\"margin-top: 20px\">\n",
    "    <a href=\"https://github.com/isa-ipa\">\n",
    "        <img src=\"\" width=\"60\" align=\"right\">\n",
    "     </a>\n",
    "     <h1>\n",
    "         End of Workshop\n",
    "     </h1>\n",
    "</div>"
   ]
  },
  {
   "cell_type": "markdown",
   "metadata": {},
   "source": [
    "---"
   ]
  }
 ],
 "metadata": {
  "kernelspec": {
   "display_name": "Python 3",
   "language": "python",
   "name": "python3"
  },
  "language_info": {
   "codemirror_mode": {
    "name": "ipython",
    "version": 3
   },
   "file_extension": ".py",
   "mimetype": "text/x-python",
   "name": "python",
   "nbconvert_exporter": "python",
   "pygments_lexer": "ipython3",
   "version": "3.6.10"
  }
 },
 "nbformat": 4,
 "nbformat_minor": 2
}
